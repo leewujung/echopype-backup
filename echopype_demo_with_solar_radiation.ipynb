{
 "cells": [
  {
   "cell_type": "code",
   "execution_count": 1,
   "metadata": {},
   "outputs": [],
   "source": [
    "import os\n",
    "import glob\n",
    "import xarray as xr\n",
    "import matplotlib"
   ]
  },
  {
   "cell_type": "markdown",
   "metadata": {},
   "source": [
    "## List all data files"
   ]
  },
  {
   "cell_type": "code",
   "execution_count": 2,
   "metadata": {},
   "outputs": [
    {
     "data": {
      "text/plain": [
       "['/Volumes/wjlee_apl_2/z_ooi_eclipse_data/OOI-D20170820-T000000.raw',\n",
       " '/Volumes/wjlee_apl_2/z_ooi_eclipse_data/OOI-D20170820-T013841.raw',\n",
       " '/Volumes/wjlee_apl_2/z_ooi_eclipse_data/OOI-D20170820-T031743.raw',\n",
       " '/Volumes/wjlee_apl_2/z_ooi_eclipse_data/OOI-D20170820-T045644.raw',\n",
       " '/Volumes/wjlee_apl_2/z_ooi_eclipse_data/OOI-D20170820-T063550.raw',\n",
       " '/Volumes/wjlee_apl_2/z_ooi_eclipse_data/OOI-D20170820-T081451.raw',\n",
       " '/Volumes/wjlee_apl_2/z_ooi_eclipse_data/OOI-D20170820-T095354.raw',\n",
       " '/Volumes/wjlee_apl_2/z_ooi_eclipse_data/OOI-D20170820-T113306.raw',\n",
       " '/Volumes/wjlee_apl_2/z_ooi_eclipse_data/OOI-D20170820-T131207.raw',\n",
       " '/Volumes/wjlee_apl_2/z_ooi_eclipse_data/OOI-D20170820-T145109.raw',\n",
       " '/Volumes/wjlee_apl_2/z_ooi_eclipse_data/OOI-D20170820-T163010.raw',\n",
       " '/Volumes/wjlee_apl_2/z_ooi_eclipse_data/OOI-D20170820-T180922.raw',\n",
       " '/Volumes/wjlee_apl_2/z_ooi_eclipse_data/OOI-D20170820-T194823.raw',\n",
       " '/Volumes/wjlee_apl_2/z_ooi_eclipse_data/OOI-D20170820-T212724.raw',\n",
       " '/Volumes/wjlee_apl_2/z_ooi_eclipse_data/OOI-D20170820-T230626.raw',\n",
       " '/Volumes/wjlee_apl_2/z_ooi_eclipse_data/OOI-D20170821-T000000.raw',\n",
       " '/Volumes/wjlee_apl_2/z_ooi_eclipse_data/OOI-D20170821-T013914.raw',\n",
       " '/Volumes/wjlee_apl_2/z_ooi_eclipse_data/OOI-D20170821-T031816.raw',\n",
       " '/Volumes/wjlee_apl_2/z_ooi_eclipse_data/OOI-D20170821-T045717.raw',\n",
       " '/Volumes/wjlee_apl_2/z_ooi_eclipse_data/OOI-D20170821-T063618.raw',\n",
       " '/Volumes/wjlee_apl_2/z_ooi_eclipse_data/OOI-D20170821-T081522.raw',\n",
       " '/Volumes/wjlee_apl_2/z_ooi_eclipse_data/OOI-D20170821-T095435.raw',\n",
       " '/Volumes/wjlee_apl_2/z_ooi_eclipse_data/OOI-D20170821-T113343.raw',\n",
       " '/Volumes/wjlee_apl_2/z_ooi_eclipse_data/OOI-D20170821-T131245.raw',\n",
       " '/Volumes/wjlee_apl_2/z_ooi_eclipse_data/OOI-D20170821-T145147.raw',\n",
       " '/Volumes/wjlee_apl_2/z_ooi_eclipse_data/OOI-D20170821-T163049.raw',\n",
       " '/Volumes/wjlee_apl_2/z_ooi_eclipse_data/OOI-D20170821-T180952.raw',\n",
       " '/Volumes/wjlee_apl_2/z_ooi_eclipse_data/OOI-D20170821-T194853.raw',\n",
       " '/Volumes/wjlee_apl_2/z_ooi_eclipse_data/OOI-D20170821-T212802.raw',\n",
       " '/Volumes/wjlee_apl_2/z_ooi_eclipse_data/OOI-D20170821-T230706.raw',\n",
       " '/Volumes/wjlee_apl_2/z_ooi_eclipse_data/OOI-D20170822-T000000.raw',\n",
       " '/Volumes/wjlee_apl_2/z_ooi_eclipse_data/OOI-D20170822-T013902.raw',\n",
       " '/Volumes/wjlee_apl_2/z_ooi_eclipse_data/OOI-D20170822-T031804.raw',\n",
       " '/Volumes/wjlee_apl_2/z_ooi_eclipse_data/OOI-D20170822-T045705.raw',\n",
       " '/Volumes/wjlee_apl_2/z_ooi_eclipse_data/OOI-D20170822-T063606.raw',\n",
       " '/Volumes/wjlee_apl_2/z_ooi_eclipse_data/OOI-D20170822-T081508.raw',\n",
       " '/Volumes/wjlee_apl_2/z_ooi_eclipse_data/OOI-D20170822-T095414.raw',\n",
       " '/Volumes/wjlee_apl_2/z_ooi_eclipse_data/OOI-D20170822-T113315.raw',\n",
       " '/Volumes/wjlee_apl_2/z_ooi_eclipse_data/OOI-D20170822-T131217.raw',\n",
       " '/Volumes/wjlee_apl_2/z_ooi_eclipse_data/OOI-D20170822-T145118.raw',\n",
       " '/Volumes/wjlee_apl_2/z_ooi_eclipse_data/OOI-D20170822-T163019.raw',\n",
       " '/Volumes/wjlee_apl_2/z_ooi_eclipse_data/OOI-D20170822-T180922.raw',\n",
       " '/Volumes/wjlee_apl_2/z_ooi_eclipse_data/OOI-D20170822-T194823.raw',\n",
       " '/Volumes/wjlee_apl_2/z_ooi_eclipse_data/OOI-D20170822-T212734.raw',\n",
       " '/Volumes/wjlee_apl_2/z_ooi_eclipse_data/OOI-D20170822-T230642.raw']"
      ]
     },
     "execution_count": 2,
     "metadata": {},
     "output_type": "execute_result"
    }
   ],
   "source": [
    "data_path = '/Volumes/wjlee_apl_2/z_ooi_eclipse_data/'\n",
    "file_list = glob.glob(data_path + '*.raw')\n",
    "file_list.sort()\n",
    "file_list"
   ]
  },
  {
   "cell_type": "code",
   "execution_count": 3,
   "metadata": {},
   "outputs": [
    {
     "data": {
      "text/plain": [
       "['/Volumes/wjlee_apl_2/z_ooi_eclipse_data/OOI-D20170821-T063618.raw',\n",
       " '/Volumes/wjlee_apl_2/z_ooi_eclipse_data/OOI-D20170821-T081522.raw',\n",
       " '/Volumes/wjlee_apl_2/z_ooi_eclipse_data/OOI-D20170821-T095435.raw',\n",
       " '/Volumes/wjlee_apl_2/z_ooi_eclipse_data/OOI-D20170821-T113343.raw',\n",
       " '/Volumes/wjlee_apl_2/z_ooi_eclipse_data/OOI-D20170821-T131245.raw',\n",
       " '/Volumes/wjlee_apl_2/z_ooi_eclipse_data/OOI-D20170821-T145147.raw',\n",
       " '/Volumes/wjlee_apl_2/z_ooi_eclipse_data/OOI-D20170821-T163049.raw',\n",
       " '/Volumes/wjlee_apl_2/z_ooi_eclipse_data/OOI-D20170821-T180952.raw',\n",
       " '/Volumes/wjlee_apl_2/z_ooi_eclipse_data/OOI-D20170821-T194853.raw',\n",
       " '/Volumes/wjlee_apl_2/z_ooi_eclipse_data/OOI-D20170821-T212802.raw',\n",
       " '/Volumes/wjlee_apl_2/z_ooi_eclipse_data/OOI-D20170821-T230706.raw',\n",
       " '/Volumes/wjlee_apl_2/z_ooi_eclipse_data/OOI-D20170822-T000000.raw',\n",
       " '/Volumes/wjlee_apl_2/z_ooi_eclipse_data/OOI-D20170822-T013902.raw',\n",
       " '/Volumes/wjlee_apl_2/z_ooi_eclipse_data/OOI-D20170822-T031804.raw',\n",
       " '/Volumes/wjlee_apl_2/z_ooi_eclipse_data/OOI-D20170822-T045705.raw',\n",
       " '/Volumes/wjlee_apl_2/z_ooi_eclipse_data/OOI-D20170822-T063606.raw']"
      ]
     },
     "execution_count": 3,
     "metadata": {},
     "output_type": "execute_result"
    }
   ],
   "source": [
    "# Files from Aug 21, 2017 local time\n",
    "file_list[19:35]"
   ]
  },
  {
   "cell_type": "markdown",
   "metadata": {},
   "source": [
    "## Convert EK60 ``.raw`` to ``.nc`` files"
   ]
  },
  {
   "cell_type": "code",
   "execution_count": 4,
   "metadata": {},
   "outputs": [],
   "source": [
    "from echopype.convert import ConvertEK60"
   ]
  },
  {
   "cell_type": "code",
   "execution_count": 5,
   "metadata": {},
   "outputs": [
    {
     "name": "stdout",
     "output_type": "stream",
     "text": [
      "01:20:27  converting file: OOI-D20170821-T063618.raw\n",
      "01:20:31  converting file: OOI-D20170821-T081522.raw\n",
      "01:20:35  converting file: OOI-D20170821-T095435.raw\n",
      "01:20:39  converting file: OOI-D20170821-T113343.raw\n",
      "01:20:42  converting file: OOI-D20170821-T131245.raw\n",
      "01:20:46  converting file: OOI-D20170821-T145147.raw\n",
      "01:20:50  converting file: OOI-D20170821-T163049.raw\n",
      "01:20:53  converting file: OOI-D20170821-T180952.raw\n",
      "01:20:57  converting file: OOI-D20170821-T194853.raw\n",
      "01:21:00  converting file: OOI-D20170821-T212802.raw\n",
      "01:21:04  converting file: OOI-D20170821-T230706.raw\n",
      "01:21:05  converting file: OOI-D20170822-T000000.raw\n",
      "01:21:09  converting file: OOI-D20170822-T013902.raw\n",
      "01:21:13  converting file: OOI-D20170822-T031804.raw\n",
      "01:21:16  converting file: OOI-D20170822-T045705.raw\n",
      "01:21:20  converting file: OOI-D20170822-T063606.raw\n"
     ]
    }
   ],
   "source": [
    "for fname in file_list[19:35]:\n",
    "    data_tmp = ConvertEK60(fname)\n",
    "    data_tmp.raw2nc()"
   ]
  },
  {
   "cell_type": "markdown",
   "metadata": {},
   "source": [
    "## Calibrate data, denoise, and calculate MVBS"
   ]
  },
  {
   "cell_type": "code",
   "execution_count": 6,
   "metadata": {},
   "outputs": [],
   "source": [
    "from echopype.model import EchoDataEK60"
   ]
  },
  {
   "cell_type": "code",
   "execution_count": 7,
   "metadata": {},
   "outputs": [
    {
     "name": "stdout",
     "output_type": "stream",
     "text": [
      "01:21:25  saving calibrated Sv to /Volumes/wjlee_apl_2/z_ooi_eclipse_data/OOI-D20170821-T063618_Sv.nc\n",
      "01:21:37  saving denoised Sv to /Volumes/wjlee_apl_2/z_ooi_eclipse_data/OOI-D20170821-T063618_Sv_clean.nc\n",
      "01:21:40  saving MVBS to /Volumes/wjlee_apl_2/z_ooi_eclipse_data/OOI-D20170821-T063618_MVBS.nc\n",
      "01:21:42  saving calibrated Sv to /Volumes/wjlee_apl_2/z_ooi_eclipse_data/OOI-D20170821-T081522_Sv.nc\n",
      "01:21:53  saving denoised Sv to /Volumes/wjlee_apl_2/z_ooi_eclipse_data/OOI-D20170821-T081522_Sv_clean.nc\n",
      "01:21:56  saving MVBS to /Volumes/wjlee_apl_2/z_ooi_eclipse_data/OOI-D20170821-T081522_MVBS.nc\n",
      "01:21:58  saving calibrated Sv to /Volumes/wjlee_apl_2/z_ooi_eclipse_data/OOI-D20170821-T095435_Sv.nc\n",
      "01:22:08  saving denoised Sv to /Volumes/wjlee_apl_2/z_ooi_eclipse_data/OOI-D20170821-T095435_Sv_clean.nc\n",
      "01:22:11  saving MVBS to /Volumes/wjlee_apl_2/z_ooi_eclipse_data/OOI-D20170821-T095435_MVBS.nc\n",
      "01:22:13  saving calibrated Sv to /Volumes/wjlee_apl_2/z_ooi_eclipse_data/OOI-D20170821-T113343_Sv.nc\n",
      "01:22:24  saving denoised Sv to /Volumes/wjlee_apl_2/z_ooi_eclipse_data/OOI-D20170821-T113343_Sv_clean.nc\n",
      "01:22:27  saving MVBS to /Volumes/wjlee_apl_2/z_ooi_eclipse_data/OOI-D20170821-T113343_MVBS.nc\n",
      "01:22:29  saving calibrated Sv to /Volumes/wjlee_apl_2/z_ooi_eclipse_data/OOI-D20170821-T131245_Sv.nc\n",
      "01:22:42  saving denoised Sv to /Volumes/wjlee_apl_2/z_ooi_eclipse_data/OOI-D20170821-T131245_Sv_clean.nc\n",
      "01:22:44  saving MVBS to /Volumes/wjlee_apl_2/z_ooi_eclipse_data/OOI-D20170821-T131245_MVBS.nc\n",
      "01:22:47  saving calibrated Sv to /Volumes/wjlee_apl_2/z_ooi_eclipse_data/OOI-D20170821-T145147_Sv.nc\n",
      "01:22:58  saving denoised Sv to /Volumes/wjlee_apl_2/z_ooi_eclipse_data/OOI-D20170821-T145147_Sv_clean.nc\n",
      "01:23:01  saving MVBS to /Volumes/wjlee_apl_2/z_ooi_eclipse_data/OOI-D20170821-T145147_MVBS.nc\n",
      "01:23:03  saving calibrated Sv to /Volumes/wjlee_apl_2/z_ooi_eclipse_data/OOI-D20170821-T163049_Sv.nc\n",
      "01:23:14  saving denoised Sv to /Volumes/wjlee_apl_2/z_ooi_eclipse_data/OOI-D20170821-T163049_Sv_clean.nc\n",
      "01:23:17  saving MVBS to /Volumes/wjlee_apl_2/z_ooi_eclipse_data/OOI-D20170821-T163049_MVBS.nc\n",
      "01:23:20  saving calibrated Sv to /Volumes/wjlee_apl_2/z_ooi_eclipse_data/OOI-D20170821-T180952_Sv.nc\n",
      "01:23:31  saving denoised Sv to /Volumes/wjlee_apl_2/z_ooi_eclipse_data/OOI-D20170821-T180952_Sv_clean.nc\n",
      "01:23:34  saving MVBS to /Volumes/wjlee_apl_2/z_ooi_eclipse_data/OOI-D20170821-T180952_MVBS.nc\n",
      "01:23:36  saving calibrated Sv to /Volumes/wjlee_apl_2/z_ooi_eclipse_data/OOI-D20170821-T194853_Sv.nc\n",
      "01:23:46  saving denoised Sv to /Volumes/wjlee_apl_2/z_ooi_eclipse_data/OOI-D20170821-T194853_Sv_clean.nc\n",
      "01:23:49  saving MVBS to /Volumes/wjlee_apl_2/z_ooi_eclipse_data/OOI-D20170821-T194853_MVBS.nc\n",
      "01:23:52  saving calibrated Sv to /Volumes/wjlee_apl_2/z_ooi_eclipse_data/OOI-D20170821-T212802_Sv.nc\n",
      "01:24:03  saving denoised Sv to /Volumes/wjlee_apl_2/z_ooi_eclipse_data/OOI-D20170821-T212802_Sv_clean.nc\n",
      "01:24:06  saving MVBS to /Volumes/wjlee_apl_2/z_ooi_eclipse_data/OOI-D20170821-T212802_MVBS.nc\n",
      "01:24:07  saving calibrated Sv to /Volumes/wjlee_apl_2/z_ooi_eclipse_data/OOI-D20170821-T230706_Sv.nc\n",
      "01:24:12  saving denoised Sv to /Volumes/wjlee_apl_2/z_ooi_eclipse_data/OOI-D20170821-T230706_Sv_clean.nc\n",
      "01:24:14  saving MVBS to /Volumes/wjlee_apl_2/z_ooi_eclipse_data/OOI-D20170821-T230706_MVBS.nc\n",
      "01:24:16  saving calibrated Sv to /Volumes/wjlee_apl_2/z_ooi_eclipse_data/OOI-D20170822-T000000_Sv.nc\n",
      "01:24:29  saving denoised Sv to /Volumes/wjlee_apl_2/z_ooi_eclipse_data/OOI-D20170822-T000000_Sv_clean.nc\n",
      "01:24:32  saving MVBS to /Volumes/wjlee_apl_2/z_ooi_eclipse_data/OOI-D20170822-T000000_MVBS.nc\n",
      "01:24:34  saving calibrated Sv to /Volumes/wjlee_apl_2/z_ooi_eclipse_data/OOI-D20170822-T013902_Sv.nc\n",
      "01:24:45  saving denoised Sv to /Volumes/wjlee_apl_2/z_ooi_eclipse_data/OOI-D20170822-T013902_Sv_clean.nc\n",
      "01:24:47  saving MVBS to /Volumes/wjlee_apl_2/z_ooi_eclipse_data/OOI-D20170822-T013902_MVBS.nc\n",
      "01:24:50  saving calibrated Sv to /Volumes/wjlee_apl_2/z_ooi_eclipse_data/OOI-D20170822-T031804_Sv.nc\n",
      "01:25:00  saving denoised Sv to /Volumes/wjlee_apl_2/z_ooi_eclipse_data/OOI-D20170822-T031804_Sv_clean.nc\n",
      "01:25:03  saving MVBS to /Volumes/wjlee_apl_2/z_ooi_eclipse_data/OOI-D20170822-T031804_MVBS.nc\n",
      "01:25:05  saving calibrated Sv to /Volumes/wjlee_apl_2/z_ooi_eclipse_data/OOI-D20170822-T045705_Sv.nc\n",
      "01:25:17  saving denoised Sv to /Volumes/wjlee_apl_2/z_ooi_eclipse_data/OOI-D20170822-T045705_Sv_clean.nc\n",
      "01:25:20  saving MVBS to /Volumes/wjlee_apl_2/z_ooi_eclipse_data/OOI-D20170822-T045705_MVBS.nc\n",
      "01:25:22  saving calibrated Sv to /Volumes/wjlee_apl_2/z_ooi_eclipse_data/OOI-D20170822-T063606_Sv.nc\n",
      "01:25:34  saving denoised Sv to /Volumes/wjlee_apl_2/z_ooi_eclipse_data/OOI-D20170822-T063606_Sv_clean.nc\n",
      "01:25:37  saving MVBS to /Volumes/wjlee_apl_2/z_ooi_eclipse_data/OOI-D20170822-T063606_MVBS.nc\n"
     ]
    }
   ],
   "source": [
    "for fname in file_list[19:35]:\n",
    "    data = EchoDataEK60(fname[:-4]+'.nc')\n",
    "    data.MVBS_ping_size = 30\n",
    "    data.MVBS_range_bin_size = 2.5\n",
    "    data.calibrate(save=True,)  # Calibration and echo-integration\n",
    "    data.remove_noise(save=True)  # Save denoised Sv to FILENAME_Sv_clean.nc\n",
    "    data.get_MVBS(save=True)\n",
    "    os.remove(fname[:-4]+'_Sv.nc')"
   ]
  },
  {
   "cell_type": "markdown",
   "metadata": {},
   "source": [
    "## Opening and Visualizing the Results in Parallel"
   ]
  },
  {
   "cell_type": "code",
   "execution_count": 1,
   "metadata": {},
   "outputs": [],
   "source": [
    "import xarray as xr"
   ]
  },
  {
   "cell_type": "code",
   "execution_count": 31,
   "metadata": {},
   "outputs": [],
   "source": [
    "data_path = '/Volumes/wjlee_apl_2/z_ooi_eclipse_data/'"
   ]
  },
  {
   "cell_type": "code",
   "execution_count": 13,
   "metadata": {},
   "outputs": [],
   "source": [
    "res = xr.open_mfdataset(data_path+'*MVBS.nc')"
   ]
  },
  {
   "cell_type": "code",
   "execution_count": 14,
   "metadata": {},
   "outputs": [
    {
     "data": {
      "text/plain": [
       "<xarray.Dataset>\n",
       "Dimensions:                   (frequency: 3, ping_time: 3066, range_bin: 83)\n",
       "Coordinates:\n",
       "  * frequency                 (frequency) float32 120000.0 38000.0 200000.0\n",
       "  * range_bin                 (range_bin) int64 0 13 26 39 ... 1040 1053 1066\n",
       "  * ping_time                 (ping_time) datetime64[ns] 2017-08-21T06:36:18.558000128 ... 2017-08-22T08:14:55.829000192\n",
       "Data variables:\n",
       "    MVBS                      (frequency, ping_time, range_bin) float64 dask.array<shape=(3, 3066, 83), chunksize=(3, 198, 83)>\n",
       "    noise_est_range_bin_size  (ping_time, frequency) float32 dask.array<shape=(3066, 3), chunksize=(198, 3)>\n",
       "    sample_thickness          (ping_time, frequency) float32 dask.array<shape=(3066, 3), chunksize=(198, 3)>\n",
       "Attributes:\n",
       "    noise_est_ping_size:  30"
      ]
     },
     "execution_count": 14,
     "metadata": {},
     "output_type": "execute_result"
    }
   ],
   "source": [
    "res"
   ]
  },
  {
   "cell_type": "code",
   "execution_count": 15,
   "metadata": {},
   "outputs": [],
   "source": [
    "import matplotlib.pyplot as plt"
   ]
  },
  {
   "cell_type": "code",
   "execution_count": 16,
   "metadata": {},
   "outputs": [],
   "source": [
    "res.coords['depth'] = res.range_bin * res.sample_thickness.sel(frequency=200000).isel(ping_time=0).values\n",
    "res.coords['depth'] = res.coords['depth'].max() - res.coords['depth']"
   ]
  },
  {
   "cell_type": "code",
   "execution_count": 17,
   "metadata": {},
   "outputs": [
    {
     "data": {
      "image/png": "[encoded data removed]",
      "text/plain": [
       "<Figure size 1080x360 with 2 Axes>"
      ]
     },
     "metadata": {
      "needs_background": "light"
     },
     "output_type": "display_data"
    }
   ],
   "source": [
    "echogram = res.MVBS.sel(frequency=200000).plot(x='ping_time',y='depth',cmap='jet',\n",
    "                                               vmin=-80,vmax=-30,\n",
    "                                               aspect=3, size=5)\n",
    "plt.ylim(res.coords['depth'].max(), 0)\n",
    "plt.xlabel('Ping time', fontsize=14)\n",
    "plt.ylabel('Depth (m)', fontsize=14)\n",
    "plt.show()"
   ]
  },
  {
   "cell_type": "markdown",
   "metadata": {},
   "source": [
    "## Adding solar radiation data"
   ]
  },
  {
   "cell_type": "code",
   "execution_count": 29,
   "metadata": {},
   "outputs": [],
   "source": [
    "import os\n",
    "import numpy as np\n",
    "import datetime\n",
    "import pandas as pd\n",
    "import matplotlib.pyplot as plt"
   ]
  },
  {
   "cell_type": "code",
   "execution_count": 2,
   "metadata": {},
   "outputs": [],
   "source": [
    "solar_path = '/Users/wu-jung/code_git/echopype_legacy/misc/data_solar_radiation/'\n",
    "solar_file = 'eao_buoy_solar_radiation_20170831download.txt'"
   ]
  },
  {
   "cell_type": "code",
   "execution_count": 3,
   "metadata": {},
   "outputs": [],
   "source": [
    "def read_srad(filefullpath):\n",
    "    '''\n",
    "    Read txt file downloaded from **reatlime solar radiation data**\n",
    "    from http://www.ndbc.noaa.gov/station_page.php?station=46098\n",
    "    '''\n",
    "    f = open(filefullpath, 'rU')\n",
    "    header1 = f.readline().split()\n",
    "    header2 = f.readline().split()\n",
    "    data_block = f.readlines()\n",
    "    \n",
    "    data = {}\n",
    "    for col_name in header1:\n",
    "        data[col_name] = np.ma.zeros(len(data_block), 'f',\\\n",
    "                                     fill_value = -999.999)\n",
    "        \n",
    "    for (line_count, line) in enumerate(data_block):\n",
    "        items = line.split()    \n",
    "        for (col_count, col_name) in enumerate(header1):\n",
    "            value = items[col_count]\n",
    "            if value == \"MM\":\n",
    "                value = np.ma.masked\n",
    "            else:\n",
    "                value = float(value)\n",
    "            data[col_name][line_count] = value\n",
    "            \n",
    "    f.close()\n",
    "    return data"
   ]
  },
  {
   "cell_type": "code",
   "execution_count": 7,
   "metadata": {},
   "outputs": [
    {
     "name": "stderr",
     "output_type": "stream",
     "text": [
      "/Users/wu-jung/miniconda3/envs/echopype/lib/python3.7/site-packages/ipykernel_launcher.py:6: DeprecationWarning: 'U' mode is deprecated\n",
      "  \n"
     ]
    }
   ],
   "source": [
    "srad_data = read_srad(os.path.join(solar_path, solar_file))"
   ]
  },
  {
   "cell_type": "code",
   "execution_count": 19,
   "metadata": {},
   "outputs": [],
   "source": [
    "srad_time = np.array([datetime.datetime(year=srad_data['#YY'][x],\n",
    "                               month=srad_data['MM'][x],\n",
    "                               day=srad_data['DD'][x],\n",
    "                               hour=srad_data['hh'][x],\n",
    "                               minute=srad_data['mm'][x]) for x in range(len(srad_data['#YY']))])"
   ]
  },
  {
   "cell_type": "code",
   "execution_count": 20,
   "metadata": {},
   "outputs": [
    {
     "data": {
      "text/plain": [
       "array([datetime.datetime(2017, 8, 31, 15, 50),\n",
       "       datetime.datetime(2017, 8, 31, 15, 40),\n",
       "       datetime.datetime(2017, 8, 31, 15, 30), ...,\n",
       "       datetime.datetime(2017, 7, 17, 0, 20),\n",
       "       datetime.datetime(2017, 7, 17, 0, 10),\n",
       "       datetime.datetime(2017, 7, 17, 0, 0)], dtype=object)"
      ]
     },
     "execution_count": 20,
     "metadata": {},
     "output_type": "execute_result"
    }
   ],
   "source": [
    "srad_time"
   ]
  },
  {
   "cell_type": "code",
   "execution_count": 23,
   "metadata": {},
   "outputs": [
    {
     "data": {
      "text/plain": [
       "DatetimeIndex(['2017-08-31 15:50:00', '2017-08-31 15:40:00',\n",
       "               '2017-08-31 15:30:00', '2017-08-31 15:20:00',\n",
       "               '2017-08-31 15:10:00', '2017-08-31 15:00:00',\n",
       "               '2017-08-31 14:50:00', '2017-08-31 14:40:00',\n",
       "               '2017-08-31 14:30:00', '2017-08-31 14:20:00',\n",
       "               ...\n",
       "               '2017-07-17 01:30:00', '2017-07-17 01:20:00',\n",
       "               '2017-07-17 01:10:00', '2017-07-17 01:00:00',\n",
       "               '2017-07-17 00:50:00', '2017-07-17 00:40:00',\n",
       "               '2017-07-17 00:30:00', '2017-07-17 00:20:00',\n",
       "               '2017-07-17 00:10:00', '2017-07-17 00:00:00'],\n",
       "              dtype='datetime64[ns]', length=6384, freq=None)"
      ]
     },
     "execution_count": 23,
     "metadata": {},
     "output_type": "execute_result"
    }
   ],
   "source": [
    "srad_time = pd.to_datetime(srad_time)\n",
    "srad_time"
   ]
  },
  {
   "cell_type": "code",
   "execution_count": 30,
   "metadata": {},
   "outputs": [
    {
     "data": {
      "text/plain": [
       "<matplotlib.axes._subplots.AxesSubplot at 0x316c956a0>"
      ]
     },
     "execution_count": 30,
     "metadata": {},
     "output_type": "execute_result"
    },
    {
     "data": {
      "image/png": "[encoded data removed]",
      "text/plain": [
       "<Figure size 432x288 with 1 Axes>"
      ]
     },
     "metadata": {
      "needs_background": "light"
     },
     "output_type": "display_data"
    }
   ],
   "source": [
    "srad_pd_series = pd.Series(srad_data['SRAD1'], index=srad_time)\n",
    "srad_pd_series.plot()"
   ]
  },
  {
   "cell_type": "code",
   "execution_count": 34,
   "metadata": {},
   "outputs": [
    {
     "data": {
      "text/plain": [
       "datetime.datetime(2017, 8, 21, 6, 36)"
      ]
     },
     "execution_count": 34,
     "metadata": {},
     "output_type": "execute_result"
    }
   ],
   "source": [
    "datetime.datetime(year=2017,month=8,day=21,hour=6,minute=36)"
   ]
  },
  {
   "cell_type": "code",
   "execution_count": null,
   "metadata": {},
   "outputs": [],
   "source": []
  },
  {
   "cell_type": "code",
   "execution_count": 8,
   "metadata": {},
   "outputs": [],
   "source": [
    "from ndbc import Station\n",
    "from datetime import datetime"
   ]
  },
  {
   "cell_type": "code",
   "execution_count": 16,
   "metadata": {},
   "outputs": [],
   "source": [
    "# initialize without getting the data\n",
    "station = Station(46098)"
   ]
  },
  {
   "cell_type": "code",
   "execution_count": 10,
   "metadata": {},
   "outputs": [
    {
     "data": {
      "text/plain": [
       "'OOI Waldport Offshore'"
      ]
     },
     "execution_count": 10,
     "metadata": {},
     "output_type": "execute_result"
    }
   ],
   "source": [
    "station.name"
   ]
  },
  {
   "cell_type": "code",
   "execution_count": 17,
   "metadata": {},
   "outputs": [],
   "source": [
    "station.get_stdmet(datetime(2017,7,21), datetime(2017,7,22))"
   ]
  },
  {
   "cell_type": "code",
   "execution_count": 43,
   "metadata": {},
   "outputs": [
    {
     "data": {
      "text/plain": [
       "array([  8.,   8.,   8., ..., 999., 999., 999.])"
      ]
     },
     "execution_count": 43,
     "metadata": {},
     "output_type": "execute_result"
    }
   ],
   "source": [
    "station.atmp"
   ]
  },
  {
   "cell_type": "code",
   "execution_count": 61,
   "metadata": {},
   "outputs": [
    {
     "data": {
      "text/plain": [
       "array([datetime.datetime(2017, 1, 1, 0, 0),\n",
       "       datetime.datetime(2017, 1, 1, 0, 10),\n",
       "       datetime.datetime(2017, 1, 1, 0, 20), ...,\n",
       "       datetime.datetime(2017, 12, 31, 21, 10),\n",
       "       datetime.datetime(2017, 12, 31, 22, 10),\n",
       "       datetime.datetime(2017, 12, 31, 23, 10)], dtype=object)"
      ]
     },
     "execution_count": 61,
     "metadata": {},
     "output_type": "execute_result"
    }
   ],
   "source": [
    "station.time"
   ]
  },
  {
   "cell_type": "code",
   "execution_count": null,
   "metadata": {},
   "outputs": [],
   "source": []
  },
  {
   "cell_type": "code",
   "execution_count": null,
   "metadata": {},
   "outputs": [],
   "source": []
  },
  {
   "cell_type": "code",
   "execution_count": 18,
   "metadata": {},
   "outputs": [],
   "source": [
    "_BASEURL = 'http://www.ndbc.noaa.gov/data'\n",
    "_SENSOR_URL = _BASEURL+'/stations/buoyht.txt'\n",
    "_REALTIME_URL = _BASEURL+'/realtime2/'\n",
    "_RECENT_URL = _BASEURL+'/stdmet/'\n",
    "_HISTORICAL_URL = _BASEURL+'/historical/stdmet/'\n",
    "_STATION_URL = _BASEURL+'/stations/station_table.txt'"
   ]
  },
  {
   "cell_type": "code",
   "execution_count": 19,
   "metadata": {},
   "outputs": [],
   "source": [
    "starttime = datetime(2017,7,21)"
   ]
  },
  {
   "cell_type": "code",
   "execution_count": 20,
   "metadata": {},
   "outputs": [],
   "source": [
    "filename = '46098'+'h'+str(starttime.year)+'.txt.gz'\n",
    "fileurl = _HISTORICAL_URL+filename"
   ]
  },
  {
   "cell_type": "code",
   "execution_count": 24,
   "metadata": {},
   "outputs": [],
   "source": [
    "import gzip\n",
    "import numpy as np\n",
    "import requests\n",
    "import urllib"
   ]
  },
  {
   "cell_type": "code",
   "execution_count": 25,
   "metadata": {},
   "outputs": [],
   "source": [
    "f = gzip.open(urllib.request.urlopen(fileurl))"
   ]
  },
  {
   "cell_type": "code",
   "execution_count": 26,
   "metadata": {},
   "outputs": [
    {
     "data": {
      "text/plain": [
       "<gzip http.client.HTTPResponse object at 0x11ed9d6a0 0x11ed834a8>"
      ]
     },
     "execution_count": 26,
     "metadata": {},
     "output_type": "execute_result"
    }
   ],
   "source": [
    "f"
   ]
  },
  {
   "cell_type": "code",
   "execution_count": 27,
   "metadata": {},
   "outputs": [],
   "source": [
    "datastart = 2"
   ]
  },
  {
   "cell_type": "code",
   "execution_count": 28,
   "metadata": {},
   "outputs": [],
   "source": [
    "lines = [line.decode().strip() for line in f.readlines()]"
   ]
  },
  {
   "cell_type": "code",
   "execution_count": 30,
   "metadata": {},
   "outputs": [
    {
     "data": {
      "text/plain": [
       "'#yr  mo dy hr mn degT m/s  m/s     m   sec   sec degT   hPa  degC  degC  degC   mi    ft'"
      ]
     },
     "execution_count": 30,
     "metadata": {},
     "output_type": "execute_result"
    }
   ],
   "source": [
    "lines[1]"
   ]
  },
  {
   "cell_type": "code",
   "execution_count": 29,
   "metadata": {},
   "outputs": [
    {
     "data": {
      "text/plain": [
       "'2017 01 01 00 00 318  7.1 99.0 99.00 99.00 99.00 999 1017.3   8.0  11.3 999.0 99.0 99.00'"
      ]
     },
     "execution_count": 29,
     "metadata": {},
     "output_type": "execute_result"
    }
   ],
   "source": [
    "lines[2]"
   ]
  },
  {
   "cell_type": "code",
   "execution_count": 32,
   "metadata": {},
   "outputs": [],
   "source": [
    "srad_url = 'https://www.ndbc.noaa.gov/data/historical/srad/'"
   ]
  },
  {
   "cell_type": "code",
   "execution_count": 35,
   "metadata": {},
   "outputs": [],
   "source": [
    "filename = '46098'+'r'+str(starttime.year)+'.txt.gz'\n",
    "fileurl = srad_url+filename"
   ]
  },
  {
   "cell_type": "code",
   "execution_count": 36,
   "metadata": {},
   "outputs": [],
   "source": [
    "f = gzip.open(urllib.request.urlopen(fileurl))"
   ]
  },
  {
   "cell_type": "code",
   "execution_count": 37,
   "metadata": {},
   "outputs": [
    {
     "data": {
      "text/plain": [
       "<gzip http.client.HTTPResponse object at 0x11ed9d710 0x11ed9db38>"
      ]
     },
     "execution_count": 37,
     "metadata": {},
     "output_type": "execute_result"
    }
   ],
   "source": [
    "f"
   ]
  },
  {
   "cell_type": "code",
   "execution_count": 38,
   "metadata": {},
   "outputs": [],
   "source": [
    "lines = [line.decode().strip() for line in f.readlines()]"
   ]
  },
  {
   "cell_type": "code",
   "execution_count": 39,
   "metadata": {},
   "outputs": [
    {
     "data": {
      "text/plain": [
       "'#yr  mo dy hr mn   w/m2   w/m2   w/m2'"
      ]
     },
     "execution_count": 39,
     "metadata": {},
     "output_type": "execute_result"
    }
   ],
   "source": [
    "lines[1]"
   ]
  },
  {
   "cell_type": "code",
   "execution_count": 41,
   "metadata": {},
   "outputs": [
    {
     "data": {
      "text/plain": [
       "['2017 01 01 00 00   81.6 9999.0  282.6',\n",
       " '2017 01 01 00 10   34.9 9999.0  287.3',\n",
       " '2017 01 01 00 20   28.5 9999.0  318.1',\n",
       " '2017 01 01 00 30   17.1 9999.0  308.0',\n",
       " '2017 01 01 00 40    7.5 9999.0  342.0',\n",
       " '2017 01 01 00 50    4.1 9999.0  327.6',\n",
       " '2017 01 01 01 00    3.1 9999.0  327.5',\n",
       " '2017 01 01 01 10    1.6 9999.0  297.3']"
      ]
     },
     "execution_count": 41,
     "metadata": {},
     "output_type": "execute_result"
    }
   ],
   "source": [
    "lines[2:10]"
   ]
  },
  {
   "cell_type": "code",
   "execution_count": 50,
   "metadata": {},
   "outputs": [],
   "source": [
    "from datetime import datetime, timedelta"
   ]
  },
  {
   "cell_type": "code",
   "execution_count": 63,
   "metadata": {},
   "outputs": [],
   "source": [
    "time = []\n",
    "srad1 = []\n",
    "for line in lines[datastart:]:\n",
    "    line = line.split()\n",
    "    time.append(datetime.strptime(''.join(line[:5]), '%Y%m%d%H%M'))\n",
    "    nn = 5  # the 6th column is SRAD1\n",
    "    srad1.append(np.nan if line[nn] == '9999.0' else float(line[nn]))"
   ]
  },
  {
   "cell_type": "code",
   "execution_count": 66,
   "metadata": {},
   "outputs": [],
   "source": [
    "import pandas as pd"
   ]
  },
  {
   "cell_type": "code",
   "execution_count": 76,
   "metadata": {},
   "outputs": [],
   "source": [
    "df_srad = pd.DataFrame(srad1, index=time)"
   ]
  },
  {
   "cell_type": "code",
   "execution_count": 78,
   "metadata": {},
   "outputs": [
    {
     "data": {
      "text/html": [
       "<div>\n",
       "<style scoped>\n",
       "    .dataframe tbody tr th:only-of-type {\n",
       "        vertical-align: middle;\n",
       "    }\n",
       "\n",
       "    .dataframe tbody tr th {\n",
       "        vertical-align: top;\n",
       "    }\n",
       "\n",
       "    .dataframe thead th {\n",
       "        text-align: right;\n",
       "    }\n",
       "</style>\n",
       "<table border=\"1\" class=\"dataframe\">\n",
       "  <thead>\n",
       "    <tr style=\"text-align: right;\">\n",
       "      <th></th>\n",
       "      <th>0</th>\n",
       "    </tr>\n",
       "  </thead>\n",
       "  <tbody>\n",
       "    <tr>\n",
       "      <th>2017-01-01 00:00:00</th>\n",
       "      <td>81.6</td>\n",
       "    </tr>\n",
       "    <tr>\n",
       "      <th>2017-01-01 00:10:00</th>\n",
       "      <td>34.9</td>\n",
       "    </tr>\n",
       "    <tr>\n",
       "      <th>2017-01-01 00:20:00</th>\n",
       "      <td>28.5</td>\n",
       "    </tr>\n",
       "    <tr>\n",
       "      <th>2017-01-01 00:30:00</th>\n",
       "      <td>17.1</td>\n",
       "    </tr>\n",
       "    <tr>\n",
       "      <th>2017-01-01 00:40:00</th>\n",
       "      <td>7.5</td>\n",
       "    </tr>\n",
       "  </tbody>\n",
       "</table>\n",
       "</div>"
      ],
      "text/plain": [
       "                        0\n",
       "2017-01-01 00:00:00  81.6\n",
       "2017-01-01 00:10:00  34.9\n",
       "2017-01-01 00:20:00  28.5\n",
       "2017-01-01 00:30:00  17.1\n",
       "2017-01-01 00:40:00   7.5"
      ]
     },
     "execution_count": 78,
     "metadata": {},
     "output_type": "execute_result"
    }
   ],
   "source": [
    "df_srad.head()"
   ]
  },
  {
   "cell_type": "code",
   "execution_count": 96,
   "metadata": {},
   "outputs": [
    {
     "data": {
      "text/plain": [
       "array([False, False, False, ..., False, False, False])"
      ]
     },
     "execution_count": 96,
     "metadata": {},
     "output_type": "execute_result"
    }
   ],
   "source": [
    "np.logical_and(df_srad.index>=pd.to_datetime('2017-07-21'), df_srad.index<=pd.to_datetime('2017-07-22'))"
   ]
  },
  {
   "cell_type": "code",
   "execution_count": 101,
   "metadata": {},
   "outputs": [
    {
     "data": {
      "text/plain": [
       "<matplotlib.axes._subplots.AxesSubplot at 0x1257bb4e0>"
      ]
     },
     "execution_count": 101,
     "metadata": {},
     "output_type": "execute_result"
    },
    {
     "data": {
      "image/png": "[encoded data removed]",
      "text/plain": [
       "<Figure size 432x288 with 1 Axes>"
      ]
     },
     "metadata": {
      "needs_background": "light"
     },
     "output_type": "display_data"
    }
   ],
   "source": [
    "df_srad[np.logical_and(df_srad.index>=pd.to_datetime('2017-08-21 07:00:00'), \n",
    "                       df_srad.index<=pd.to_datetime('2017-08-22 07:00:00'))].plot()"
   ]
  },
  {
   "cell_type": "code",
   "execution_count": null,
   "metadata": {},
   "outputs": [],
   "source": []
  },
  {
   "cell_type": "code",
   "execution_count": null,
   "metadata": {},
   "outputs": [],
   "source": []
  },
  {
   "cell_type": "code",
   "execution_count": null,
   "metadata": {},
   "outputs": [],
   "source": []
  },
  {
   "cell_type": "code",
   "execution_count": null,
   "metadata": {},
   "outputs": [],
   "source": []
  },
  {
   "cell_type": "code",
   "execution_count": null,
   "metadata": {},
   "outputs": [],
   "source": []
  },
  {
   "cell_type": "code",
   "execution_count": null,
   "metadata": {},
   "outputs": [],
   "source": []
  }
 ],
 "metadata": {
  "kernelspec": {
   "display_name": "echopype",
   "language": "python",
   "name": "echopype"
  },
  "language_info": {
   "codemirror_mode": {
    "name": "ipython",
    "version": 3
   },
   "file_extension": ".py",
   "mimetype": "text/x-python",
   "name": "python",
   "nbconvert_exporter": "python",
   "pygments_lexer": "ipython3",
   "version": "3.7.1"
  }
 },
 "nbformat": 4,
 "nbformat_minor": 2
}
